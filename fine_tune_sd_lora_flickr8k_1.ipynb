{
 "cells": [
  {
   "cell_type": "markdown",
   "metadata": {},
   "source": [
    "# Fine-Tune Stable Diffusion with Flickr8k using LoRA"
   ]
  },
  {
   "cell_type": "code",
   "execution_count": 3,
   "metadata": {},
   "outputs": [],
   "source": [
    "import os\n",
    "import torch\n",
    "from torch.utils.data import Dataset, DataLoader\n",
    "from torchvision import transforms\n",
    "from PIL import Image\n",
    "from transformers import CLIPTokenizer\n",
    "from diffusers import StableDiffusionPipeline, DDPMScheduler\n",
    "from peft import get_peft_model, LoraConfig\n",
    "from datasets import Dataset as HFDataset\n",
    "from tqdm import tqdm"
   ]
  },
  {
   "cell_type": "code",
   "execution_count": 4,
   "metadata": {},
   "outputs": [
    {
     "name": "stdout",
     "output_type": "stream",
     "text": [
      "CUDA Available: True\n",
      "GPU Name: NVIDIA GeForce GTX 1050 Ti\n",
      "Total GPU Memory (MB): 4095.875\n"
     ]
    }
   ],
   "source": [
    "import torch\n",
    "\n",
    "# Check if GPU is available\n",
    "print(\"CUDA Available:\", torch.cuda.is_available())\n",
    "\n",
    "# Show GPU name if available\n",
    "if torch.cuda.is_available():\n",
    "    print(\"GPU Name:\", torch.cuda.get_device_name(0))\n",
    "    print(\"Total GPU Memory (MB):\", torch.cuda.get_device_properties(0).total_memory / (1024**2))\n",
    "else:\n",
    "    print(\"No GPU found.\")\n"
   ]
  },
  {
   "cell_type": "code",
   "execution_count": 5,
   "metadata": {},
   "outputs": [],
   "source": [
    "# === Config ===\n",
    "image_dir = \"C:/Users/molavade.s/Latent_Diffusion_model/flickr8k/Images\"\n",
    "captions_file = \"C:/Users/molavade.s/Latent_Diffusion_model/flickr8k/captions.txt\"\n",
    "pretrained_model = \"CompVis/stable-diffusion-v1-4\"\n",
    "output_dir = \"./sd-fine-tuned-lora\"\n",
    "image_size = 512\n",
    "batch_size = 2\n",
    "num_epochs = 3\n",
    "lr = 1e-5\n",
    "device = \"cuda\" if torch.cuda.is_available() else \"cpu\""
   ]
  },
  {
   "cell_type": "code",
   "execution_count": 6,
   "metadata": {},
   "outputs": [],
   "source": [
    "# === Load Captions ===\n",
    "def load_captions(captions_path):\n",
    "    pairs = []\n",
    "    with open(captions_path, 'r', encoding='utf-8') as f:\n",
    "        for line in f:\n",
    "            line = line.strip()\n",
    "            if not line or line.startswith(\"image,caption\"):\n",
    "                continue\n",
    "            try:\n",
    "                img, caption = line.split(',', 1)\n",
    "                img = img.split('#')[0]\n",
    "                full_img_path = os.path.join(image_dir, img)\n",
    "                if os.path.exists(full_img_path):\n",
    "                    pairs.append({'image': full_img_path, 'caption': caption.strip()})\n",
    "                else:\n",
    "                    print(f\"Image file not found: {full_img_path}\")\n",
    "            except Exception as e:\n",
    "                print(f\"Error processing line: {line} – {e}\")\n",
    "    return pairs\n",
    "\n",
    "\n",
    "# Load and convert to HuggingFace Dataset\n",
    "pairs = load_captions(captions_file)[:100]  # Limit to first 100\n",
    "from datasets import Dataset as HFDataset\n",
    "hf_dataset = HFDataset.from_list(pairs)\n",
    "\n"
   ]
  },
  {
   "cell_type": "code",
   "execution_count": 7,
   "metadata": {},
   "outputs": [],
   "source": [
    "# === Tokenizer and Transform ===\n",
    "tokenizer = CLIPTokenizer.from_pretrained(\"openai/clip-vit-large-patch14\")\n",
    "transform = transforms.Compose([\n",
    "    transforms.Resize((image_size, image_size)),\n",
    "    transforms.ToTensor(),\n",
    "    transforms.Normalize([0.5], [0.5])\n",
    "])"
   ]
  },
  {
   "cell_type": "code",
   "execution_count": 8,
   "metadata": {},
   "outputs": [],
   "source": [
    "# === Custom Dataset ===\n",
    "class FlickrDataset(Dataset):\n",
    "    def __init__(self, data):\n",
    "        self.data = data\n",
    "    def __len__(self):\n",
    "        return len(self.data)\n",
    "    def __getitem__(self, idx):\n",
    "        example = self.data[idx]\n",
    "        image = Image.open(example['image']).convert('RGB')\n",
    "        pixel_values = transform(image)\n",
    "        text_inputs = tokenizer(example['caption'], padding='max_length', truncation=True, max_length=77, return_tensors='pt')\n",
    "        return {\n",
    "            'pixel_values': pixel_values,\n",
    "            'input_ids': text_inputs.input_ids.squeeze(0),\n",
    "            'attention_mask': text_inputs.attention_mask.squeeze(0)\n",
    "        }\n",
    "\n",
    "dataset = FlickrDataset(hf_dataset)"
   ]
  },
  {
   "cell_type": "code",
   "execution_count": 9,
   "metadata": {},
   "outputs": [
    {
     "data": {
      "application/vnd.jupyter.widget-view+json": {
       "model_id": "4b7558461be441f2ae0f7c45feb3b285",
       "version_major": 2,
       "version_minor": 0
      },
      "text/plain": [
       "Loading pipeline components...:   0%|          | 0/7 [00:00<?, ?it/s]"
      ]
     },
     "metadata": {},
     "output_type": "display_data"
    },
    {
     "data": {
      "text/plain": [
       "CLIPTextModel(\n",
       "  (text_model): CLIPTextTransformer(\n",
       "    (embeddings): CLIPTextEmbeddings(\n",
       "      (token_embedding): Embedding(49408, 768)\n",
       "      (position_embedding): Embedding(77, 768)\n",
       "    )\n",
       "    (encoder): CLIPEncoder(\n",
       "      (layers): ModuleList(\n",
       "        (0-11): 12 x CLIPEncoderLayer(\n",
       "          (self_attn): CLIPSdpaAttention(\n",
       "            (k_proj): Linear(in_features=768, out_features=768, bias=True)\n",
       "            (v_proj): Linear(in_features=768, out_features=768, bias=True)\n",
       "            (q_proj): Linear(in_features=768, out_features=768, bias=True)\n",
       "            (out_proj): Linear(in_features=768, out_features=768, bias=True)\n",
       "          )\n",
       "          (layer_norm1): LayerNorm((768,), eps=1e-05, elementwise_affine=True)\n",
       "          (mlp): CLIPMLP(\n",
       "            (activation_fn): QuickGELUActivation()\n",
       "            (fc1): Linear(in_features=768, out_features=3072, bias=True)\n",
       "            (fc2): Linear(in_features=3072, out_features=768, bias=True)\n",
       "          )\n",
       "          (layer_norm2): LayerNorm((768,), eps=1e-05, elementwise_affine=True)\n",
       "        )\n",
       "      )\n",
       "    )\n",
       "    (final_layer_norm): LayerNorm((768,), eps=1e-05, elementwise_affine=True)\n",
       "  )\n",
       ")"
      ]
     },
     "execution_count": 9,
     "metadata": {},
     "output_type": "execute_result"
    }
   ],
   "source": [
    "# === Load Pipeline and Freeze ===\n",
    "pipe = StableDiffusionPipeline.from_pretrained(pretrained_model, torch_dtype=torch.float16 if device==\"cuda\" else torch.float32)\n",
    "pipe.to(device)\n",
    "pipe.vae.requires_grad_(False)\n",
    "pipe.text_encoder.requires_grad_(False)"
   ]
  },
  {
   "cell_type": "code",
   "execution_count": 10,
   "metadata": {},
   "outputs": [],
   "source": [
    "from peft import LoraConfig, get_peft_model\n",
    "\n",
    "lora_config = LoraConfig(\n",
    "    r=8,\n",
    "    lora_alpha=32,\n",
    "    target_modules=[\"to_q\", \"to_k\", \"to_v\", \"to_out.0\"],\n",
    "    bias=\"none\"\n",
    ")\n",
    "\n",
    "pipe.unet = get_peft_model(pipe.unet, lora_config)\n"
   ]
  },
  {
   "cell_type": "code",
   "execution_count": 11,
   "metadata": {},
   "outputs": [
    {
     "name": "stderr",
     "output_type": "stream",
     "text": [
      "Epoch 1/3: 100%|██████████| 50/50 [49:14<00:00, 59.10s/it]\n"
     ]
    },
    {
     "name": "stdout",
     "output_type": "stream",
     "text": [
      "Epoch 1: Loss = 0.1844482421875\n"
     ]
    },
    {
     "name": "stderr",
     "output_type": "stream",
     "text": [
      "Epoch 2/3: 100%|██████████| 50/50 [48:35<00:00, 58.31s/it]\n"
     ]
    },
    {
     "name": "stdout",
     "output_type": "stream",
     "text": [
      "Epoch 2: Loss = 0.018707275390625\n"
     ]
    },
    {
     "name": "stderr",
     "output_type": "stream",
     "text": [
      "Epoch 3/3: 100%|██████████| 50/50 [49:04<00:00, 58.90s/it]\n"
     ]
    },
    {
     "name": "stdout",
     "output_type": "stream",
     "text": [
      "Epoch 3: Loss = 0.1700439453125\n"
     ]
    }
   ],
   "source": [
    "# === Training ===\n",
    "optimizer = torch.optim.Adam(pipe.unet.parameters(), lr=lr)\n",
    "dataloader = DataLoader(dataset, batch_size=batch_size, shuffle=True)\n",
    "pipe.scheduler = DDPMScheduler.from_config(pipe.scheduler.config)\n",
    "\n",
    "for epoch in range(num_epochs):\n",
    "    pipe.unet.train()\n",
    "    for batch in tqdm(dataloader, desc=f'Epoch {epoch+1}/{num_epochs}'):\n",
    "        images = batch['pixel_values'].to(device, dtype=torch.float16)\n",
    "        latents = pipe.vae.encode(images).latent_dist.sample() * 0.18215\n",
    "        input_ids = batch['input_ids'].to(device)\n",
    "        noise = torch.randn_like(latents)\n",
    "        timesteps = torch.randint(0, pipe.scheduler.config.num_train_timesteps, (latents.shape[0],), device=device).long()\n",
    "        noisy_latents = pipe.scheduler.add_noise(latents, noise, timesteps)\n",
    "        with torch.no_grad():\n",
    "            encoder_hidden_states = pipe.text_encoder(input_ids)[0].to(dtype=torch.float16)\n",
    "        model_pred = pipe.unet(noisy_latents, timesteps, encoder_hidden_states).sample\n",
    "        loss = torch.nn.functional.mse_loss(model_pred, noise)\n",
    "        optimizer.zero_grad()\n",
    "        loss.backward()\n",
    "        optimizer.step()\n",
    "    print(f'Epoch {epoch+1}: Loss = {loss.item()}')"
   ]
  },
  {
   "cell_type": "code",
   "execution_count": 12,
   "metadata": {},
   "outputs": [
    {
     "name": "stdout",
     "output_type": "stream",
     "text": [
      "Fine-tuned U-Net saved to: ./sd-fine-tuned-lora\n"
     ]
    }
   ],
   "source": [
    "# === Save final LoRA fine-tuned UNet ===\n",
    "pipe.unet.save_pretrained(output_dir)\n",
    "print(f\"Fine-tuned U-Net saved to: {output_dir}\")\n"
   ]
  },
  {
   "cell_type": "code",
   "execution_count": 1,
   "metadata": {},
   "outputs": [
    {
     "data": {
      "application/vnd.jupyter.widget-view+json": {
       "model_id": "cdd889767a644feab8286c841b08e79d",
       "version_major": 2,
       "version_minor": 0
      },
      "text/plain": [
       "Loading pipeline components...:   0%|          | 0/7 [00:00<?, ?it/s]"
      ]
     },
     "metadata": {},
     "output_type": "display_data"
    }
   ],
   "source": [
    "from diffusers import StableDiffusionPipeline\n",
    "import torch\n",
    "from peft import PeftModel, LoraConfig\n",
    "\n",
    "# Load original SD pipeline\n",
    "pipe = StableDiffusionPipeline.from_pretrained(\"CompVis/stable-diffusion-v1-4\", torch_dtype=torch.float16)\n",
    "pipe.to(\"cuda\")\n",
    "\n",
    "# Load your LoRA fine-tuned U-Net\n",
    "from peft import PeftModel\n",
    "pipe.unet = PeftModel.from_pretrained(pipe.unet, \"./sd-fine-tuned-lora\")\n",
    "pipe.unet.eval()\n",
    "\n",
    "# Enable faster generation\n",
    "pipe.enable_attention_slicing()\n"
   ]
  },
  {
   "cell_type": "code",
   "execution_count": 2,
   "metadata": {},
   "outputs": [
    {
     "data": {
      "application/vnd.jupyter.widget-view+json": {
       "model_id": "948d4fa1aca54857a13a4f1522b1bb3a",
       "version_major": 2,
       "version_minor": 0
      },
      "text/plain": [
       "  0%|          | 0/50 [00:00<?, ?it/s]"
      ]
     },
     "metadata": {},
     "output_type": "display_data"
    }
   ],
   "source": [
    "# Prompt to test\n",
    "prompt = \"A magical forest with glowing mushrooms and a small waterfall\"\n",
    "\n",
    "# Generate\n",
    "with torch.autocast(\"cuda\"):\n",
    "    image = pipe(prompt=prompt, guidance_scale=7.5).images[0]\n",
    "\n",
    "# Show image (Jupyter)\n",
    "image.show()\n",
    "\n",
    "# Optionally save\n",
    "image.save(\"generated_output.png\")"
   ]
  }
 ],
 "metadata": {
  "kernelspec": {
   "display_name": "Python (myenv)",
   "language": "python",
   "name": "myenv"
  },
  "language_info": {
   "codemirror_mode": {
    "name": "ipython",
    "version": 3
   },
   "file_extension": ".py",
   "mimetype": "text/x-python",
   "name": "python",
   "nbconvert_exporter": "python",
   "pygments_lexer": "ipython3",
   "version": "3.12.5"
  }
 },
 "nbformat": 4,
 "nbformat_minor": 2
}
